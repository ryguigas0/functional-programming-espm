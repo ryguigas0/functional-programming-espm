{
 "cells": [
  {
   "cell_type": "markdown",
   "metadata": {},
   "source": [
    "# Aula 7 - POO em Python"
   ]
  },
  {
   "cell_type": "code",
   "execution_count": 8,
   "metadata": {},
   "outputs": [
    {
     "name": "stdout",
     "output_type": "stream",
     "text": [
      "Olá! Eu sou Gui e digo: sou um engenheiro de software\n",
      "299.3\n",
      "Sou André e \"classes em python\" vai cair na prova!\n",
      "299.1\n"
     ]
    }
   ],
   "source": [
    "# classe pessoa\n",
    "class Pessoa:\n",
    "    # método construtor\n",
    "    # this do Java ~= self (convenção)\n",
    "    def __init__(self, nome, altura, peso):\n",
    "        self.nome = nome\n",
    "        self.altura = altura\n",
    "        self.peso = peso\n",
    "    # especifica que `frase` é do tipo string\n",
    "    # definir um método com parâmetros\n",
    "    def falar(self, frase=''):\n",
    "        return f'Olá! Eu sou {self.nome} e digo: {frase}'\n",
    "    def andar(self, velocidade=0):\n",
    "        return velocidade - 0.01 * self.peso\n",
    "\n",
    "# Professor herda de pessoa\n",
    "class Professor(Pessoa):\n",
    "    def __init__(self, nome, altura, peso, salario):\n",
    "        # chama o construtor herdado\n",
    "        super().__init__(nome, altura, peso)\n",
    "        self.salario = salario\n",
    "    def falar(self, frase):\n",
    "        return f'Sou {self.nome} e \"{frase}\" vai cair na prova!'\n",
    "\n",
    "def main():\n",
    "    p = Pessoa(\"Gui\", 1.8, 70.0) # Python não tem new porque nulo é o que não existe e não nulo é o que está em variável\n",
    "    print(p.falar('sou um engenheiro de software'))\n",
    "    print(p.andar(300))\n",
    "    prof = Professor(\"André\", 1.7, 90.0, 8000.0)\n",
    "    print(prof.falar('classes em python'))\n",
    "    print(prof.andar(300))\n",
    "\n",
    "\n",
    "# se for o primeiro arquivo que está rodando é o main\n",
    "if __name__ == '__main__':\n",
    "    main()"
   ]
  }
 ],
 "metadata": {
  "kernelspec": {
   "display_name": "Python 3",
   "language": "python",
   "name": "python3"
  },
  "language_info": {
   "codemirror_mode": {
    "name": "ipython",
    "version": 3
   },
   "file_extension": ".py",
   "mimetype": "text/x-python",
   "name": "python",
   "nbconvert_exporter": "python",
   "pygments_lexer": "ipython3",
   "version": "3.8.10"
  },
  "orig_nbformat": 4
 },
 "nbformat": 4,
 "nbformat_minor": 2
}
