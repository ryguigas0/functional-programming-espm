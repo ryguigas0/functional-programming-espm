{
 "cells": [
  {
   "cell_type": "markdown",
   "metadata": {},
   "source": [
    "# Aula 3 - Coleções de dados e Fluxo de código"
   ]
  },
  {
   "cell_type": "markdown",
   "metadata": {},
   "source": [
    "## Coleções de dados"
   ]
  },
  {
   "cell_type": "markdown",
   "metadata": {},
   "source": [
    "### Listas"
   ]
  },
  {
   "cell_type": "code",
   "execution_count": 26,
   "metadata": {},
   "outputs": [
    {
     "name": "stdout",
     "output_type": "stream",
     "text": [
      "<class 'list'>\n",
      "['__add__', '__class__', '__contains__', '__delattr__', '__delitem__', '__dir__', '__doc__', '__eq__', '__format__', '__ge__', '__getattribute__', '__getitem__', '__gt__', '__hash__', '__iadd__', '__imul__', '__init__', '__init_subclass__', '__iter__', '__le__', '__len__', '__lt__', '__mul__', '__ne__', '__new__', '__reduce__', '__reduce_ex__', '__repr__', '__reversed__', '__rmul__', '__setattr__', '__setitem__', '__sizeof__', '__str__', '__subclasshook__', 'append', 'clear', 'copy', 'count', 'extend', 'index', 'insert', 'pop', 'remove', 'reverse', 'sort']\n",
      "antes ['Banana', 3.14, 3, 'Laranja', None, 'Maçã', 1.4142135623730951, 7]\n",
      "depois [3.14, 3, 'Laranja', None, 'Maçã', 1.4142135623730951] 7 Banana\n",
      "zero 3.14\n",
      "1 a 3 [3, 'Laranja']\n",
      "Pedaço de laranja ara\n"
     ]
    }
   ],
   "source": [
    "lista = ['Banana', 3.14, 3] # Inicializar a lista\n",
    "print(type(lista))\n",
    "print(dir(lista))\n",
    "\n",
    "lista.append(None) # Colocar um elemento no final da lista\n",
    "lista.extend(['Maçã', 2.0 ** 0.5, 7]) # Juntar duas listas diferentes\n",
    "lista.insert(3, 'Laranja') # Inserir elemento\n",
    "# lista.sort() # Funciona apenas se a lista ter todos os valores iguais\n",
    "\n",
    "print(\"antes\", lista)\n",
    "\n",
    "ultimo = lista.pop() # Tira o último item da lista e retorna -> Pilha (FIFO)\n",
    "primeiro = lista.pop(0) # Tira o primeiro item da lista e retorna -> Fila (FILO)\n",
    "\n",
    "print(\"depois\", lista, ultimo, primeiro)\n",
    "\n",
    "# tudo de slices é aplicável a listas\n",
    "print('zero', lista[0])\n",
    "print('1 a 3', lista[1:3])\n",
    "print('Pedaço de laranja', lista[2][1:4])"
   ]
  },
  {
   "cell_type": "markdown",
   "metadata": {},
   "source": [
    "### Tuplas - Listas imutáveis"
   ]
  },
  {
   "cell_type": "code",
   "execution_count": 27,
   "metadata": {},
   "outputs": [
    {
     "name": "stdout",
     "output_type": "stream",
     "text": [
      "<class 'tuple'>\n",
      "['__add__', '__class__', '__contains__', '__delattr__', '__dir__', '__doc__', '__eq__', '__format__', '__ge__', '__getattribute__', '__getitem__', '__getnewargs__', '__gt__', '__hash__', '__init__', '__init_subclass__', '__iter__', '__le__', '__len__', '__lt__', '__mul__', '__ne__', '__new__', '__reduce__', '__reduce_ex__', '__repr__', '__rmul__', '__setattr__', '__sizeof__', '__str__', '__subclasshook__', 'count', 'index']\n"
     ]
    }
   ],
   "source": [
    "frutas = ('Maçã', 'Laranja', 'Banana', 'Mexirica')\n",
    "print(type(frutas))\n",
    "print(dir(frutas))\n"
   ]
  },
  {
   "cell_type": "markdown",
   "metadata": {},
   "source": [
    "#### Porque tuplas?\n",
    "\n",
    "Caso for necessário usar a imutabilidade para uma lista (Ex.: forçar uma lista de cores obrigatórias para quem for usar a tupla não alterar)"
   ]
  },
  {
   "cell_type": "markdown",
   "metadata": {},
   "source": []
  },
  {
   "cell_type": "markdown",
   "metadata": {},
   "source": [
    "### Dicionários"
   ]
  },
  {
   "cell_type": "code",
   "execution_count": 28,
   "metadata": {},
   "outputs": [
    {
     "name": "stdout",
     "output_type": "stream",
     "text": [
      "<class 'dict'>\n",
      "['__class__', '__contains__', '__delattr__', '__delitem__', '__dir__', '__doc__', '__eq__', '__format__', '__ge__', '__getattribute__', '__getitem__', '__gt__', '__hash__', '__init__', '__init_subclass__', '__iter__', '__le__', '__len__', '__lt__', '__ne__', '__new__', '__reduce__', '__reduce_ex__', '__repr__', '__reversed__', '__setattr__', '__setitem__', '__sizeof__', '__str__', '__subclasshook__', 'clear', 'copy', 'fromkeys', 'get', 'items', 'keys', 'pop', 'popitem', 'setdefault', 'update', 'values']\n",
      "Guilherme\n",
      "None\n",
      "['JS']\n",
      "{'nome': 'Guilherme', 'idade': 20, 'linguagens': ['Elixir', 'JS', 'TS', 'Python'], 'cpf': 12345678912, 'sexo': 'Masculino'}\n"
     ]
    }
   ],
   "source": [
    "pessoa = {'nome': 'Guilherme', 'idade': 20, 'linguagens': ['Elixir', 'JS', 'TS']}\n",
    "print(type(pessoa))\n",
    "print(dir(pessoa))\n",
    "\n",
    "print(pessoa['nome']) # Pegar o valor com base na chave\n",
    "print(pessoa.get('inexistente')) # Pegar o valor com base na chave, mas retornando None se não tiver\n",
    "print(pessoa['linguagens'][1:2])\n",
    "\n",
    "pessoa['cpf'] = 12345678912 # Inserir uma nova chave com um valor\n",
    "pessoa['linguagens'].append('Python')\n",
    "pessoa.update({'sexo': 'Masculino'}) # Juntar dois dicionários\n",
    "print(pessoa)\n",
    "\n"
   ]
  },
  {
   "cell_type": "markdown",
   "metadata": {},
   "source": [
    "## Fluxo de código"
   ]
  },
  {
   "cell_type": "markdown",
   "metadata": {},
   "source": [
    "### IF e ELSE"
   ]
  },
  {
   "cell_type": "code",
   "execution_count": 29,
   "metadata": {},
   "outputs": [
    {
     "name": "stdout",
     "output_type": "stream",
     "text": [
      "b é 5\n"
     ]
    }
   ],
   "source": [
    "a, b = 3, 5\n",
    "\n",
    "if a == b or a > 7:\n",
    "    print('a maior que 7 ou é igual a b')\n",
    "elif b == 5:\n",
    "    print('b é 5')\n",
    "else:\n",
    "    print('outra coisa')"
   ]
  },
  {
   "cell_type": "markdown",
   "metadata": {},
   "source": [
    "### LOOPS"
   ]
  },
  {
   "cell_type": "code",
   "execution_count": 30,
   "metadata": {},
   "outputs": [
    {
     "name": "stdout",
     "output_type": "stream",
     "text": [
      "1 * 1 = 1\n",
      "1 * 2 = 2\n",
      "1 * 3 = 3\n",
      "1 * 4 = 4\n",
      "1 * 5 = 5\n",
      "1 * 6 = 6\n",
      "1 * 7 = 7\n",
      "1 * 8 = 8\n",
      "1 * 9 = 9\n",
      "1 * 10 = 10\n",
      "2 * 1 = 2\n",
      "2 * 2 = 4\n",
      "2 * 3 = 6\n",
      "2 * 4 = 8\n",
      "2 * 5 = 10\n",
      "2 * 6 = 12\n",
      "2 * 7 = 14\n",
      "2 * 8 = 16\n",
      "2 * 9 = 18\n",
      "2 * 10 = 20\n",
      "3 * 1 = 3\n",
      "3 * 2 = 6\n",
      "3 * 3 = 9\n",
      "3 * 4 = 12\n",
      "3 * 5 = 15\n",
      "3 * 6 = 18\n",
      "3 * 7 = 21\n",
      "3 * 8 = 24\n",
      "3 * 9 = 27\n",
      "3 * 10 = 30\n",
      "4 * 1 = 4\n",
      "4 * 2 = 8\n",
      "4 * 3 = 12\n",
      "4 * 4 = 16\n",
      "4 * 5 = 20\n",
      "4 * 6 = 24\n",
      "4 * 7 = 28\n",
      "4 * 8 = 32\n",
      "4 * 9 = 36\n",
      "4 * 10 = 40\n",
      "5 * 1 = 5\n",
      "5 * 2 = 10\n",
      "5 * 3 = 15\n",
      "5 * 4 = 20\n",
      "5 * 5 = 25\n",
      "5 * 6 = 30\n",
      "5 * 7 = 35\n",
      "5 * 8 = 40\n",
      "5 * 9 = 45\n",
      "5 * 10 = 50\n",
      "6 * 1 = 6\n",
      "6 * 2 = 12\n",
      "6 * 3 = 18\n",
      "6 * 4 = 24\n",
      "6 * 5 = 30\n",
      "6 * 6 = 36\n",
      "6 * 7 = 42\n",
      "6 * 8 = 48\n",
      "6 * 9 = 54\n",
      "6 * 10 = 60\n",
      "7 * 1 = 7\n",
      "7 * 2 = 14\n",
      "7 * 3 = 21\n",
      "7 * 4 = 28\n",
      "7 * 5 = 35\n",
      "7 * 6 = 42\n",
      "7 * 7 = 49\n",
      "7 * 8 = 56\n",
      "7 * 9 = 63\n",
      "7 * 10 = 70\n",
      "8 * 1 = 8\n",
      "8 * 2 = 16\n",
      "8 * 3 = 24\n",
      "8 * 4 = 32\n",
      "8 * 5 = 40\n",
      "8 * 6 = 48\n",
      "8 * 7 = 56\n",
      "8 * 8 = 64\n",
      "8 * 9 = 72\n",
      "8 * 10 = 80\n",
      "9 * 1 = 9\n",
      "9 * 2 = 18\n",
      "9 * 3 = 27\n",
      "9 * 4 = 36\n",
      "9 * 5 = 45\n",
      "9 * 6 = 54\n",
      "9 * 7 = 63\n",
      "9 * 8 = 72\n",
      "9 * 9 = 81\n",
      "9 * 10 = 90\n",
      "10 * 1 = 10\n",
      "10 * 2 = 20\n",
      "10 * 3 = 30\n",
      "10 * 4 = 40\n",
      "10 * 5 = 50\n",
      "10 * 6 = 60\n",
      "10 * 7 = 70\n",
      "10 * 8 = 80\n",
      "10 * 9 = 90\n",
      "10 * 10 = 100\n"
     ]
    }
   ],
   "source": [
    "# Para debugar -> Ctrl + Shift + Alt + Enter\n",
    "\n",
    "# FOR EACH - Tabuada\n",
    "\n",
    "for i in range(1, 11):\n",
    "    for j in range(1, 11):\n",
    "        print(f'{i} * {j} = {i*j}')"
   ]
  },
  {
   "cell_type": "code",
   "execution_count": 40,
   "metadata": {},
   "outputs": [
    {
     "name": "stdout",
     "output_type": "stream",
     "text": [
      "\n",
      "#\n",
      "##\n",
      "###\n",
      "####\n",
      "#####\n",
      "######\n",
      "#######\n",
      "||\n",
      "||\n"
     ]
    }
   ],
   "source": [
    "# Gerador de árvore\n",
    "counter = 0\n",
    "tamanho = 7\n",
    "\n",
    "while(counter <= tamanho):\n",
    "    print(\"#\" * counter)\n",
    "    counter += 1\n",
    "print('||\\n||')"
   ]
  },
  {
   "cell_type": "code",
   "execution_count": 32,
   "metadata": {},
   "outputs": [
    {
     "name": "stdout",
     "output_type": "stream",
     "text": [
      "nome -> Guilherme\n",
      "idade -> 20\n",
      "linguagens -> ['Elixir', 'JS', 'TS', 'Python']\n",
      "cpf -> 12345678912\n",
      "sexo -> Masculino\n"
     ]
    }
   ],
   "source": [
    "# Percorre chaves de um dicionário\n",
    "for chave in pessoa.keys():\n",
    "    print(f'{chave} -> {pessoa[chave]}')"
   ]
  }
 ],
 "metadata": {
  "kernelspec": {
   "display_name": "Python 3",
   "language": "python",
   "name": "python3"
  },
  "language_info": {
   "codemirror_mode": {
    "name": "ipython",
    "version": 3
   },
   "file_extension": ".py",
   "mimetype": "text/x-python",
   "name": "python",
   "nbconvert_exporter": "python",
   "pygments_lexer": "ipython3",
   "version": "3.8.10"
  },
  "orig_nbformat": 4
 },
 "nbformat": 4,
 "nbformat_minor": 2
}
