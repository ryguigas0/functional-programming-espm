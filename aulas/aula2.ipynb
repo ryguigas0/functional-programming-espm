{
 "cells": [
  {
   "cell_type": "markdown",
   "metadata": {},
   "source": [
    "# Aula 2 - Tipos básicos de dados"
   ]
  },
  {
   "cell_type": "code",
   "execution_count": 1,
   "metadata": {},
   "outputs": [
    {
     "name": "stdout",
     "output_type": "stream",
     "text": [
      "<class 'bool'>\n",
      "<class 'bool'>\n",
      "<class 'float'>\n",
      "<class 'int'>\n",
      "<class 'str'>\n",
      "Eu sou muito muito muito incrível\n",
      "<class 'list'>\n",
      "<class 'dict'>\n",
      "<class 'NoneType'>\n"
     ]
    }
   ],
   "source": [
    "# boolean\n",
    "print(type(True))\n",
    "print(type(False))\n",
    "\n",
    "# float\n",
    "print(type(2.2))\n",
    "\n",
    "#integer\n",
    "print(type(2))\n",
    "\n",
    "# string\n",
    "print(type(\"Eu sou uma string\"))\n",
    "print(\"Eu sou \" + 3 * \"muito \" + \"incrível\")\n",
    "\n",
    "# list\n",
    "print(type([1,2,3,4]))\n",
    "\n",
    "# dictionary\n",
    "print(type({'chave': 'valor'}))\n",
    "\n",
    "# None ~= null\n",
    "print(type(None))"
   ]
  },
  {
   "cell_type": "markdown",
   "metadata": {},
   "source": [
    "## Como o Python resolve multiparadigma?"
   ]
  },
  {
   "cell_type": "code",
   "execution_count": 2,
   "metadata": {},
   "outputs": [
    {
     "data": {
      "text/plain": [
       "['__add__',\n",
       " '__class__',\n",
       " '__contains__',\n",
       " '__delattr__',\n",
       " '__dir__',\n",
       " '__doc__',\n",
       " '__eq__',\n",
       " '__format__',\n",
       " '__ge__',\n",
       " '__getattribute__',\n",
       " '__getitem__',\n",
       " '__getnewargs__',\n",
       " '__gt__',\n",
       " '__hash__',\n",
       " '__init__',\n",
       " '__init_subclass__',\n",
       " '__iter__',\n",
       " '__le__',\n",
       " '__len__',\n",
       " '__lt__',\n",
       " '__mod__',\n",
       " '__mul__',\n",
       " '__ne__',\n",
       " '__new__',\n",
       " '__reduce__',\n",
       " '__reduce_ex__',\n",
       " '__repr__',\n",
       " '__rmod__',\n",
       " '__rmul__',\n",
       " '__setattr__',\n",
       " '__sizeof__',\n",
       " '__str__',\n",
       " '__subclasshook__',\n",
       " 'capitalize',\n",
       " 'casefold',\n",
       " 'center',\n",
       " 'count',\n",
       " 'encode',\n",
       " 'endswith',\n",
       " 'expandtabs',\n",
       " 'find',\n",
       " 'format',\n",
       " 'format_map',\n",
       " 'index',\n",
       " 'isalnum',\n",
       " 'isalpha',\n",
       " 'isascii',\n",
       " 'isdecimal',\n",
       " 'isdigit',\n",
       " 'isidentifier',\n",
       " 'islower',\n",
       " 'isnumeric',\n",
       " 'isprintable',\n",
       " 'isspace',\n",
       " 'istitle',\n",
       " 'isupper',\n",
       " 'join',\n",
       " 'ljust',\n",
       " 'lower',\n",
       " 'lstrip',\n",
       " 'maketrans',\n",
       " 'partition',\n",
       " 'replace',\n",
       " 'rfind',\n",
       " 'rindex',\n",
       " 'rjust',\n",
       " 'rpartition',\n",
       " 'rsplit',\n",
       " 'rstrip',\n",
       " 'split',\n",
       " 'splitlines',\n",
       " 'startswith',\n",
       " 'strip',\n",
       " 'swapcase',\n",
       " 'title',\n",
       " 'translate',\n",
       " 'upper',\n",
       " 'zfill']"
      ]
     },
     "execution_count": 2,
     "metadata": {},
     "output_type": "execute_result"
    }
   ],
   "source": [
    "# Mostra a lista de métodos e funcões de uma classe\n",
    "dir(str) "
   ]
  },
  {
   "cell_type": "markdown",
   "metadata": {},
   "source": [
    "## O que são os underline?\n",
    "\n",
    "São os dados que o Blue Chins (compilador do python) usa para transformar os paradigmas em uma coisa só.\n",
    "\n",
    "No caso é `__oop__` e `funcional`."
   ]
  },
  {
   "cell_type": "markdown",
   "metadata": {},
   "source": [
    "## Manipulando strings"
   ]
  },
  {
   "cell_type": "code",
   "execution_count": 3,
   "metadata": {},
   "outputs": [
    {
     "ename": "NameError",
     "evalue": "name 'numeros' is not defined",
     "output_type": "error",
     "traceback": [
      "\u001b[0;31m---------------------------------------------------------------------------\u001b[0m",
      "\u001b[0;31mNameError\u001b[0m                                 Traceback (most recent call last)",
      "Cell \u001b[0;32mIn[3], line 12\u001b[0m\n\u001b[1;32m      6\u001b[0m \u001b[39m# mantem a formatação\u001b[39;00m\n\u001b[1;32m      7\u001b[0m aspas_triplas \u001b[39m=\u001b[39m \u001b[39m\"\"\"\u001b[39m\u001b[39m Eu\u001b[39m\n\u001b[1;32m      8\u001b[0m \u001b[39mquebro\u001b[39m\n\u001b[1;32m      9\u001b[0m \u001b[39mlinha\u001b[39m\n\u001b[1;32m     10\u001b[0m \u001b[39m\"\"\"\u001b[39m\n\u001b[0;32m---> 12\u001b[0m \u001b[39mprint\u001b[39m(numeros)\n\u001b[1;32m     14\u001b[0m \u001b[39mprint\u001b[39m(aspas_simples)\n\u001b[1;32m     16\u001b[0m \u001b[39mprint\u001b[39m(aspas_triplas)\n",
      "\u001b[0;31mNameError\u001b[0m: name 'numeros' is not defined"
     ]
    }
   ],
   "source": [
    "# Tipos de strings\n",
    "\n",
    "nome = \"Guilherme Casagrande\"\n",
    "aspas_simples = 'Lorem ipsum'\n",
    "\n",
    "# mantem a formatação\n",
    "aspas_triplas = \"\"\" Eu\n",
    "quebro\n",
    "linha\n",
    "\"\"\"\n",
    "\n",
    "print(numeros)\n",
    "\n",
    "print(aspas_simples)\n",
    "\n",
    "print(aspas_triplas)\n",
    "\n",
    "# Comparando strings\n",
    "print(\"str\" == \"str\")\n",
    "\n",
    "apelido = \"Gui\"\n",
    "\n",
    "print(apelido in nome)\n",
    "print(\"Z\" not in nome)\n",
    "\n",
    "print(len(nome))\n",
    "print(nome.lower())\n",
    "print(nome.upper())\n",
    "print(nome.split(\"e\")) # por default é por ' '"
   ]
  },
  {
   "cell_type": "markdown",
   "metadata": {},
   "source": [
    "## Slices"
   ]
  },
  {
   "cell_type": "code",
   "execution_count": null,
   "metadata": {},
   "outputs": [
    {
     "name": "stdout",
     "output_type": "stream",
     "text": [
      "0\n",
      "6\n",
      "7\n",
      "456789\n",
      "56789\n",
      "01234\n",
      "345\n",
      "34\n",
      "0123456789\n",
      "02468\n",
      "13579\n",
      "9876543210\n",
      "97531\n"
     ]
    }
   ],
   "source": [
    "numeros = '0123456789'\n",
    "\n",
    "print(numeros[0]) # listas começam no 0\n",
    "print(numeros[6]) # posição específica\n",
    "print(numeros[-3]) # volta 3 posições a partir do zero\n",
    "print(numeros[4:]) # a partir da quinta posição\n",
    "print(numeros[-5:]) # volta 5 posições a partir do zero e pega o que tem na esquerda\n",
    "print(numeros[:-5]) # volta 5 posições a partir do zero e pega o que tem na direita\n",
    "print(numeros[3:6]) # pega da quarta posição até a sexta\n",
    "print(numeros[3:-5]) # pega da quarta posição até a quinta posição começando pelo último\n",
    "print(numeros[::]) # pega tudo\n",
    "print(numeros[::2]) # pega cada segunda posição incluindo a primeira\n",
    "print(numeros[1::2]) # pega cada segunda posição a partir da segunda posição\n",
    "print(numeros[::-1]) # inverte\n",
    "print(numeros[::-2]) # inverte e pega a cada segunda posição"
   ]
  },
  {
   "cell_type": "markdown",
   "metadata": {},
   "source": [
    "## Operadores aritiméticos"
   ]
  },
  {
   "cell_type": "code",
   "execution_count": null,
   "metadata": {},
   "outputs": [
    {
     "name": "stdout",
     "output_type": "stream",
     "text": [
      "5\n",
      "-1\n",
      "6.4\n",
      "0.625\n",
      "3\n",
      "1\n",
      "256\n",
      "3.0\n"
     ]
    }
   ],
   "source": [
    "print(2 + 3)\n",
    "print(2 - 3)\n",
    "print(2 * 3.2)\n",
    "print(2 / 3.2)\n",
    "print(10 // 3) # divisão inteira\n",
    "print(10 % 3) # resto de divisão inteira\n",
    "print(2 ** 8) # potência\n",
    "print(9 ** (1/2)) # raíz"
   ]
  },
  {
   "cell_type": "code",
   "execution_count": null,
   "metadata": {},
   "outputs": [],
   "source": []
  }
 ],
 "metadata": {
  "kernelspec": {
   "display_name": "Python 3",
   "language": "python",
   "name": "python3"
  },
  "language_info": {
   "codemirror_mode": {
    "name": "ipython",
    "version": 3
   },
   "file_extension": ".py",
   "mimetype": "text/x-python",
   "name": "python",
   "nbconvert_exporter": "python",
   "pygments_lexer": "ipython3",
   "version": "3.8.10"
  },
  "orig_nbformat": 4
 },
 "nbformat": 4,
 "nbformat_minor": 2
}
