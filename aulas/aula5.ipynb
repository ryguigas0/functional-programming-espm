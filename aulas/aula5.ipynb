{
 "cells": [
  {
   "cell_type": "markdown",
   "metadata": {},
   "source": [
    "# Aula 5 - Raspagem de dados\n",
    "\n",
    "## Passos de instalação\n",
    "\n",
    "1. Instale um navegador (Ex.: [Firefox](https://www.mozilla.org/pt-BR/firefox/new/))\n",
    "2. Instale o driver do navegador (Ex.: o Firefox tem o [geckodriver](https://github.com/mozilla/geckodriver/releases))\n",
    "   - [Como fazer isso pro WSL](https://stackoverflow.com/questions/57870311/how-to-properly-use-selenium-with-geckodriver-and-firefox-with-python-on-ubuntu)\n",
    "3. Instale o Selenium (`pip3 install selenium==4.9.1`)\n",
    "\n",
    "## Exemplo"
   ]
  },
  {
   "cell_type": "code",
   "execution_count": 3,
   "metadata": {},
   "outputs": [],
   "source": [
    "import time # Fazer programa esperar\n",
    "from selenium import webdriver # utilizar drivers de navegadores\n",
    "\n",
    "driver = webdriver.Firefox() # Por default ele já procura onde o Firefox instalou e onde está o geckodriver\n",
    "\n",
    "driver.get(\"https://google.com.br\") # Bater na página do google\n",
    "\n",
    "time.sleep(5) # esperar 5 segundos\n",
    "\n",
    "driver.quit() # fechar o navegador\n"
   ]
  },
  {
   "cell_type": "markdown",
   "metadata": {},
   "source": []
  }
 ],
 "metadata": {
  "kernelspec": {
   "display_name": "Python 3",
   "language": "python",
   "name": "python3"
  },
  "language_info": {
   "codemirror_mode": {
    "name": "ipython",
    "version": 3
   },
   "file_extension": ".py",
   "mimetype": "text/x-python",
   "name": "python",
   "nbconvert_exporter": "python",
   "pygments_lexer": "ipython3",
   "version": "3.8.10"
  },
  "orig_nbformat": 4
 },
 "nbformat": 4,
 "nbformat_minor": 2
}
