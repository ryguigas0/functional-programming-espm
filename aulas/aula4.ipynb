{
 "cells": [
  {
   "cell_type": "markdown",
   "metadata": {},
   "source": [
    "# Conectando com o banco de dados\n",
    "\n",
    "## Instalação\n",
    "\n",
    "1. Instale o driver: `pip3 install mysql-connector-python`\n",
    "2. Rode os scripts de sql\n",
    "   1. Criar a estrutura: `mysql -u root -p < sakila-schema.sql`\n",
    "   2. Popular o banco de dados: `mysql -u root -p < sakila-data.sql`\n",
    "    - Para saber se deu certo no terminal:\n",
    "        1. Logar no DB: `mysql -u root -p`\n",
    "        2. Ver se o `sakila` está lá: `SHOW DATABASES;`\n",
    "        3. Ver as tabelas: `use sakila; SHOW TABLES;`\n",
    "\n",
    "## Código"
   ]
  },
  {
   "cell_type": "code",
   "execution_count": 11,
   "metadata": {},
   "outputs": [],
   "source": [
    "import mysql.connector\n",
    "\n",
    "con = mysql.connector.connect(host='localhost', database='sakila', user='root', password='root')\n",
    "\n",
    "query_contatos = \"\"\"\n",
    "create table if not exists contatos (\n",
    "    nome varchar(50), tel varchar(40)\n",
    ")\n",
    "\"\"\"\n",
    "\n",
    "query_emails = \"\"\"\n",
    "create table if not exists emails (\n",
    "    id int auto_increment primary key, \n",
    "    dono varchar(50)\n",
    ")\n",
    "\"\"\"\n",
    "\n",
    "con.commit() # salvar as mudanças feitas até agora\n",
    "# se não fizer o pool de conexões vai executar as transações porque elas estão no buffer no DB\n",
    "\n",
    "cursor = con.cursor() # onde são enviados queries e recebe resultados\n",
    "\n",
    "# Executar queries chumbadas\n",
    "cursor.execute(query_contatos)\n",
    "cursor.execute(query_emails)\n",
    "\n",
    "# Executar queries dinâmicas\n",
    "sql = 'insert into contatos(nome, tel) values (%s, %s)'\n",
    "\n",
    "nomes_telefones = [('joao', '1234-5678'), ('maria', '1234-5678'), ('jose', '1234-5678'), ('flavio', '1234-5678')]\n",
    "\n",
    "for nt in nomes_telefones:\n",
    "    cursor.execute(sql, nt)\n",
    "\n",
    "cursor.execute('select * from contatos') # quais dados o cursor deve puxar?\n",
    "for contato in cursor.fetchall(): # puxa todos os dados\n",
    "    print(contato)\n",
    "\n",
    "con.close() # Fechar a conexão"
   ]
  }
 ],
 "metadata": {
  "kernelspec": {
   "display_name": "Python 3",
   "language": "python",
   "name": "python3"
  },
  "language_info": {
   "codemirror_mode": {
    "name": "ipython",
    "version": 3
   },
   "file_extension": ".py",
   "mimetype": "text/x-python",
   "name": "python",
   "nbconvert_exporter": "python",
   "pygments_lexer": "ipython3",
   "version": "3.8.10"
  },
  "orig_nbformat": 4
 },
 "nbformat": 4,
 "nbformat_minor": 2
}
