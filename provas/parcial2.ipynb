{
 "cells": [
  {
   "cell_type": "markdown",
   "metadata": {},
   "source": [
    "# Prova programação funcional\n",
    "\n",
    "## Questão 1"
   ]
  },
  {
   "cell_type": "code",
   "execution_count": 34,
   "metadata": {},
   "outputs": [
    {
     "name": "stdout",
     "output_type": "stream",
     "text": [
      "13\n"
     ]
    }
   ],
   "source": [
    "fib = lambda n,a=1,b=1: [b,0][n>0] or fib(n -1, b, a+b)\n",
    "\n",
    "print(fib(5))"
   ]
  },
  {
   "cell_type": "markdown",
   "metadata": {},
   "source": [
    "## Questão 2"
   ]
  },
  {
   "cell_type": "code",
   "execution_count": 35,
   "metadata": {},
   "outputs": [
    {
     "name": "stdout",
     "output_type": "stream",
     "text": [
      "55\n"
     ]
    }
   ],
   "source": [
    "soma_nat = lambda n: 0 if n == 0 else soma_nat(n - 1) + n\n",
    "\n",
    "print(soma_nat(10))"
   ]
  },
  {
   "cell_type": "markdown",
   "metadata": {},
   "source": [
    "## Questão 3"
   ]
  },
  {
   "cell_type": "code",
   "execution_count": 1,
   "metadata": {},
   "outputs": [
    {
     "name": "stdout",
     "output_type": "stream",
     "text": [
      "[1, 4, 9, 16, 25]\n"
     ]
    }
   ],
   "source": [
    "quadrados_inv = lambda n: list(map(lambda x: x ** 2, range(1, n+1)))\n",
    "\n",
    "print(quadrados_inv(5))"
   ]
  },
  {
   "cell_type": "markdown",
   "metadata": {},
   "source": [
    "## Questão 4"
   ]
  },
  {
   "cell_type": "code",
   "execution_count": 36,
   "metadata": {},
   "outputs": [
    {
     "name": "stdout",
     "output_type": "stream",
     "text": [
      "[25, 16, 9, 4, 1]\n"
     ]
    }
   ],
   "source": [
    "quadrados_inv = lambda n: list(map(lambda x: x ** 2, range(1, n+1)[::-1]))\n",
    "\n",
    "print(quadrados_inv(5))"
   ]
  },
  {
   "cell_type": "markdown",
   "metadata": {},
   "source": [
    "## Questão 5"
   ]
  },
  {
   "cell_type": "code",
   "execution_count": 37,
   "metadata": {},
   "outputs": [
    {
     "name": "stdout",
     "output_type": "stream",
     "text": [
      "[4, 7, 2]\n"
     ]
    }
   ],
   "source": [
    "indices_pares = lambda l: l[::2]\n",
    "\n",
    "print(indices_pares([4,3,7,1,2,9]))"
   ]
  },
  {
   "cell_type": "markdown",
   "metadata": {},
   "source": [
    "## Questão 6"
   ]
  },
  {
   "cell_type": "code",
   "execution_count": 38,
   "metadata": {},
   "outputs": [
    {
     "name": "stdout",
     "output_type": "stream",
     "text": [
      "67\n"
     ]
    }
   ],
   "source": [
    "from functools import reduce \n",
    "\n",
    "somar_idades_pessoas = lambda l: reduce(lambda s, p: p['idade'] + s, filter(lambda p: p['idade'] > 18 and p['idade'] < 30, l), 0)\n",
    "\n",
    "print(somar_idades_pessoas([{'nome': 'Pedro', 'idade': 11},\n",
    "{'nome': 'Mariana', 'idade': 18},\n",
    "{'nome': 'Arthur', 'idade': 26},\n",
    "{'nome': 'Rebeca', 'idade': 6},\n",
    "{'nome': 'Raquel', 'idade': 34},\n",
    "{'nome': 'André', 'idade':22},\n",
    "{'nome': 'Tiago', 'idade': 19},\n",
    "{'nome': 'Gabriela', 'idade': 127}]))"
   ]
  }
 ],
 "metadata": {
  "kernelspec": {
   "display_name": "Python 3",
   "language": "python",
   "name": "python3"
  },
  "language_info": {
   "codemirror_mode": {
    "name": "ipython",
    "version": 3
   },
   "file_extension": ".py",
   "mimetype": "text/x-python",
   "name": "python",
   "nbconvert_exporter": "python",
   "pygments_lexer": "ipython3",
   "version": "3.8.10"
  }
 },
 "nbformat": 4,
 "nbformat_minor": 2
}
